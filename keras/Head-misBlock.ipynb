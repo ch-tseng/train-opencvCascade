{
 "cells": [
  {
   "cell_type": "code",
   "execution_count": 69,
   "metadata": {},
   "outputs": [],
   "source": [
    "def warn(*args, **kwargs):\n",
    "    pass\n",
    "import warnings\n",
    "warnings.warn = warn"
   ]
  },
  {
   "cell_type": "code",
   "execution_count": 70,
   "metadata": {},
   "outputs": [],
   "source": [
    "import os\n",
    "from keras.models import Sequential # Initialise our neural network model as a sequential network\n",
    "from keras.layers import Conv2D # Convolution operation\n",
    "from keras.layers import MaxPooling2D # Maxpooling function\n",
    "from keras.layers import Flatten # Converting 2D arrays into a 1D linear vector.\n",
    "from keras.layers import Dense # Perform the full connection of the neural network\n",
    "from keras.preprocessing.image import ImageDataGenerator\n",
    "from IPython.display import display\n",
    "from PIL import Image\n",
    "import cv2\n",
    "import numpy as np\n",
    "from sklearn.metrics import accuracy_score\n",
    "from skimage import io, transform"
   ]
  },
  {
   "cell_type": "code",
   "execution_count": 71,
   "metadata": {},
   "outputs": [
    {
     "name": "stdout",
     "output_type": "stream",
     "text": [
      "Train data size:  5065\n",
      "Test data size:  1267\n",
      "_________________________________________________________________\n",
      "Layer (type)                 Output Shape              Param #   \n",
      "=================================================================\n",
      "conv2d_17 (Conv2D)           (None, 24, 24, 32)        896       \n",
      "_________________________________________________________________\n",
      "max_pooling2d_17 (MaxPooling (None, 12, 12, 32)        0         \n",
      "_________________________________________________________________\n",
      "conv2d_18 (Conv2D)           (None, 12, 12, 64)        18496     \n",
      "_________________________________________________________________\n",
      "max_pooling2d_18 (MaxPooling (None, 6, 6, 64)          0         \n",
      "_________________________________________________________________\n",
      "flatten_9 (Flatten)          (None, 2304)              0         \n",
      "_________________________________________________________________\n",
      "dense_17 (Dense)             (None, 500)               1152500   \n",
      "_________________________________________________________________\n",
      "dense_18 (Dense)             (None, 2)                 1002      \n",
      "=================================================================\n",
      "Total params: 1,172,894\n",
      "Trainable params: 1,172,894\n",
      "Non-trainable params: 0\n",
      "_________________________________________________________________\n",
      "None\n",
      "Train data shape:  (5065, 24, 24, 3)\n",
      "Test data shape:  (1267, 24, 24, 3)\n",
      "Epoch 1/3\n",
      "5065/5065 [==============================] - 13s 3ms/step - loss: 0.0488 - acc: 0.9820\n",
      "Epoch 2/3\n",
      "5065/5065 [==============================] - 11s 2ms/step - loss: 0.0039 - acc: 0.9992\n",
      "Epoch 3/3\n",
      "5065/5065 [==============================] - 11s 2ms/step - loss: 0.0035 - acc: 0.9992\n",
      "Actual test labels: [0 0 0 ... 0 0 0]\n",
      "Predicted test labels: [0 0 0 ... 0 0 0]\n",
      "Accuracy score: 1.0\n"
     ]
    }
   ],
   "source": [
    "def cnn_classifier():\n",
    "    cnn = Sequential()\n",
    "    cnn.add(Conv2D(32, (3,3), input_shape = (24, 24, 3), padding='same', activation = 'relu'))\n",
    "    cnn.add(MaxPooling2D(pool_size=(2, 2), padding='same'))\n",
    "    cnn.add(Conv2D(64, (3,3), padding='same', activation = 'relu'))\n",
    "    cnn.add(MaxPooling2D(pool_size=(2, 2), padding='same'))\n",
    "    cnn.add(Flatten())\n",
    "    cnn.add(Dense(500, activation = 'relu'))\n",
    "    cnn.add(Dense(2, activation = 'softmax'))\n",
    "    cnn.compile(optimizer = 'adam', loss = 'binary_crossentropy', metrics = ['accuracy'])\n",
    "    print(cnn.summary())\n",
    "    return cnn\n",
    "\n",
    "def reshaped_image(image):\n",
    "    return transform.resize(image,(24, 24, 3)) # (cols (width), rows (height)) and don't use np.resize()\n",
    "   \n",
    "def load_images_from_folder(dbFolder):\n",
    "    train_images = []\n",
    "    train_labels = []\n",
    "    l = [0,0] # [False,True]\n",
    "    \n",
    "    Images = os.listdir(dbFolder + \"/0/\") \n",
    "    \n",
    "    for image in Images:\n",
    "        path = os.path.join(dbFolder + \"/0/\", image)\n",
    "        img = cv2.imread(path)\n",
    "        train_images.append(reshaped_image(img))\n",
    "        l = [1,0] \n",
    "        train_labels.append(l)\n",
    "\n",
    "    Images = os.listdir(dbFolder + \"/1/\")    \n",
    "    for image in Images:\n",
    "        ath = os.path.join(dbFolder + \"/1/\", image)\n",
    "        img = cv2.imread(path)\n",
    "        train_images.append(reshaped_image(img))\n",
    "        l = [0,1]\n",
    "        train_labels.append(l)\n",
    "        \n",
    "    return np.array(train_images), np.array(train_labels)\n",
    "        \n",
    "def train_test_split(train_data, train_labels, fraction):\n",
    "    index = int(len(train_data)*fraction)\n",
    "    return train_data[:index], train_labels[:index], train_data[index:], train_labels[index:]\n",
    "\n",
    "train_data, train_labels = load_images_from_folder(\"datasets\")\n",
    "fraction = 0.8\n",
    "train_data, train_labels, test_data, test_labels = train_test_split(train_data, train_labels, fraction)\n",
    "print (\"Train data size: \", len(train_data))\n",
    "print (\"Test data size: \", len(test_data))\n",
    "\n",
    "cnn = cnn_classifier()\n",
    "\n",
    "print (\"Train data shape: \", train_data.shape)\n",
    "print (\"Test data shape: \", test_data.shape)\n",
    "\n",
    "idx = np.random.permutation(train_data.shape[0])\n",
    "cnn.fit(train_data[idx], train_labels[idx], batch_size = 64, epochs = 3)\n",
    "predicted_test_labels = np.argmax(cnn.predict(test_data), axis=1)\n",
    "test_labels = np.argmax(test_labels, axis=1)\n",
    "\n",
    "print (\"Actual test labels:\", test_labels)\n",
    "print (\"Predicted test labels:\", predicted_test_labels)\n",
    "\n",
    "print (\"Accuracy score:\", accuracy_score(test_labels, predicted_test_labels))"
   ]
  },
  {
   "cell_type": "code",
   "execution_count": 72,
   "metadata": {},
   "outputs": [
    {
     "name": "stdout",
     "output_type": "stream",
     "text": [
      "Saved model to disk\n"
     ]
    }
   ],
   "source": [
    "# serialize model to JSON\n",
    "model_json = cnn.to_json()\n",
    "with open(\"model.json\", \"w\") as json_file:\n",
    "    json_file.write(model_json)\n",
    "# serialize weights to HDF5\n",
    "cnn.save_weights(\"model.h5\")\n",
    "print(\"Saved model to disk\")"
   ]
  },
  {
   "cell_type": "code",
   "execution_count": 73,
   "metadata": {},
   "outputs": [
    {
     "name": "stdout",
     "output_type": "stream",
     "text": [
      "Loaded model from disk\n"
     ]
    }
   ],
   "source": [
    "from keras.models import model_from_json\n",
    "\n",
    "# load json and create model\n",
    "json_file = open('./model.json', 'r')\n",
    "loaded_model_json = json_file.read()\n",
    "json_file.close()\n",
    "loaded_model = model_from_json(loaded_model_json)\n",
    "# load weights into new model\n",
    "loaded_model.load_weights(\"./model.h5\",by_name=True)\n",
    "print(\"Loaded model from disk\")\n",
    " "
   ]
  },
  {
   "cell_type": "code",
   "execution_count": 87,
   "metadata": {},
   "outputs": [
    {
     "name": "stdout",
     "output_type": "stream",
     "text": [
      "(1, 24, 24, 3)\n",
      "[[3.066376e-27 1.000000e+00]]\n",
      "[1]\n"
     ]
    }
   ],
   "source": [
    "# evaluate loaded model on test data\n",
    "loaded_model.compile(optimizer = 'adam', loss = 'binary_crossentropy', metrics = ['accuracy'])\n",
    "\n",
    "test_image = []\n",
    "#img = cv2.imread(\"datasets/1/csi_1600x1600_20180614_083740.png-1.jpg\")\n",
    "#img = cv2.imread(\"datasets/1/csi_1600x1600_20180608_084252.png-3.jpg\")\n",
    "#img = cv2.imread(\"datasets/0/1529122929.7221885.jpg\")\n",
    "img = cv2.imread(\"datasets/0/1529122929.7362773.jpg\")\n",
    "test_image.append(reshaped_image(img))\n",
    "test_image = np.array(test_image)\n",
    "print(test_image.shape)\n",
    "result = loaded_model.predict(test_image)\n",
    "print(result)\n",
    "print( np.argmax(result, axis=1) )"
   ]
  },
  {
   "cell_type": "code",
   "execution_count": 85,
   "metadata": {},
   "outputs": [
    {
     "name": "stdout",
     "output_type": "stream",
     "text": [
      "[[4.5869545e-15 1.0000000e+00]]\n",
      "[1]\n"
     ]
    }
   ],
   "source": [
    "print(result)\n",
    "print( np.argmax(result, axis=1) )"
   ]
  },
  {
   "cell_type": "code",
   "execution_count": 83,
   "metadata": {},
   "outputs": [
    {
     "name": "stdout",
     "output_type": "stream",
     "text": [
      "0\n"
     ]
    }
   ],
   "source": [
    "print(np.argmax(np.array([4.2, 3.4]), axis=0))"
   ]
  },
  {
   "cell_type": "code",
   "execution_count": null,
   "metadata": {},
   "outputs": [],
   "source": []
  }
 ],
 "metadata": {
  "kernelspec": {
   "display_name": "Python 3",
   "language": "python",
   "name": "python3"
  },
  "language_info": {
   "codemirror_mode": {
    "name": "ipython",
    "version": 3
   },
   "file_extension": ".py",
   "mimetype": "text/x-python",
   "name": "python",
   "nbconvert_exporter": "python",
   "pygments_lexer": "ipython3",
   "version": "3.6.5"
  }
 },
 "nbformat": 4,
 "nbformat_minor": 2
}
